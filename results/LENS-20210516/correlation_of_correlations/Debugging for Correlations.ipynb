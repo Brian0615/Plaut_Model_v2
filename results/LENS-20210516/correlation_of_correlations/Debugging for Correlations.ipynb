{
 "cells": [
  {
   "cell_type": "markdown",
   "metadata": {
    "pycharm": {
     "name": "#%% md\n"
    }
   },
   "source": [
    "# Debugging for +1/-1 Correlations"
   ]
  },
  {
   "cell_type": "code",
   "execution_count": 1,
   "metadata": {
    "pycharm": {
     "name": "#%%\n"
    }
   },
   "outputs": [],
   "source": [
    "import warnings\n",
    "\n",
    "warnings.filterwarnings('ignore')"
   ]
  },
  {
   "cell_type": "code",
   "execution_count": 2,
   "metadata": {
    "pycharm": {
     "name": "#%%\n"
    }
   },
   "outputs": [],
   "source": [
    "from analysis.correlation_of_correlations import *\n",
    "from common.helpers import get_graphemes, get_phonemes\n",
    "\n",
    "sns.set_style('darkgrid')"
   ]
  },
  {
   "cell_type": "markdown",
   "metadata": {
    "pycharm": {
     "name": "#%% md\n"
    }
   },
   "source": [
    "## Load Activation Data"
   ]
  },
  {
   "cell_type": "code",
   "execution_count": 3,
   "metadata": {},
   "outputs": [],
   "source": [
    "anchor_probe_mapping = pd.read_pickle(f'../../../dataset/anchor_probe_mapping_dilution_3.pkl')"
   ]
  },
  {
   "cell_type": "code",
   "execution_count": 4,
   "metadata": {
    "pycharm": {
     "name": "#%%\n"
    }
   },
   "outputs": [
    {
     "name": "stderr",
     "output_type": "stream",
     "text": [
      "100%|██████████| 3/3 [00:20<00:00,  6.79s/it]\n"
     ]
    }
   ],
   "source": [
    "anchors_data = []\n",
    "for dilution in tqdm(range(1, 4)):\n",
    "    anchor_list = sum(anchor_probe_mapping['anchor'].apply(lambda x: x[:dilution]).tolist(), [])\n",
    "    # Load anchors data\n",
    "    hidden_data = pd.concat([pd.read_pickle(f'../pmsp-recurrent-dt-100-seed-1/activations-anchors-hidden.pkl'), \n",
    "                             pd.read_pickle(f'../pmsp-recurrent-dt-100-dilution-{dilution}-seed-1/activations-anchors-hidden.pkl')])\n",
    "    hidden_data['epoch'] = hidden_data['epoch'].astype(int)\n",
    "    hidden_data = hidden_data[hidden_data['word_type'].isin(['ANC_REG', 'ANC_EXC', 'ANC_AMB'])]\n",
    "    hidden_data = hidden_data[hidden_data['orth'].isin(anchor_list)]\n",
    "    hidden_data = hidden_data.drop_duplicates(subset=['epoch', 'orth'])\n",
    "    \n",
    "    output_data = pd.concat([pd.read_pickle(f'../pmsp-recurrent-dt-100-seed-1/activations-anchors-output.pkl'),\n",
    "                             pd.read_pickle(f'../pmsp-recurrent-dt-100-dilution-{dilution}-seed-1/activations-anchors-output.pkl')])\n",
    "    output_data['epoch'] = output_data['epoch'].astype(int)\n",
    "    output_data = output_data[output_data['word_type'].isin(['ANC_REG', 'ANC_EXC', 'ANC_AMB'])]\n",
    "    output_data = output_data[output_data['orth'].isin(anchor_list)]\n",
    "    output_data = output_data.drop_duplicates(subset=['epoch', 'orth'])\n",
    "    \n",
    "    activations_data = pd.merge(hidden_data[['epoch', 'orth', 'hidden']], output_data, how='left', on=['epoch', 'orth']).reset_index(drop=True)\n",
    "    activations_data['dilution'] = dilution\n",
    "    anchors_data.append(activations_data)\n",
    "    \n",
    "anchors_data = pd.concat(anchors_data)\n",
    "anchors_data = anchors_data.drop(columns=['target'])"
   ]
  },
  {
   "cell_type": "code",
   "execution_count": 5,
   "metadata": {},
   "outputs": [],
   "source": [
    "probes_data = []\n",
    "for dilution in range(1, 4):\n",
    "    # Load anchors data\n",
    "    hidden_data = pd.concat([pd.read_pickle(f'../pmsp-recurrent-dt-100-seed-1/activations-probes-hidden.pkl'),\n",
    "                             pd.read_pickle(f'../pmsp-recurrent-dt-100-dilution-{dilution}-seed-1/activations-probes-hidden.pkl')])\n",
    "    hidden_data['epoch'] = hidden_data['epoch'].astype(int)\n",
    "    hidden_data = hidden_data[hidden_data['word_type'].isin(['PRO_REG', 'PRO_EXC', 'PRO_AMB'])]\n",
    "    hidden_data = hidden_data.drop_duplicates(subset=['epoch', 'orth'])\n",
    "    \n",
    "    output_data = pd.concat([pd.read_pickle(f'../pmsp-recurrent-dt-100-seed-1/activations-probes-output.pkl'),\n",
    "                             pd.read_pickle(f'../pmsp-recurrent-dt-100-dilution-{dilution}-seed-1/activations-probes-output.pkl')])\n",
    "    output_data['epoch'] = output_data['epoch'].astype(int)\n",
    "    output_data = output_data[output_data['word_type'].isin(['PRO_REG', 'PRO_EXC', 'PRO_AMB'])]\n",
    "    output_data = output_data.drop_duplicates(subset=['epoch', 'orth'])\n",
    "    \n",
    "    activations_data = pd.merge(hidden_data[['epoch', 'orth', 'hidden']], output_data, \n",
    "                                how='left', on=['epoch', 'orth']).reset_index(drop=True)\n",
    "    activations_data['dilution'] = dilution\n",
    "    probes_data.append(activations_data)\n",
    "    \n",
    "probes_data = pd.concat(probes_data)\n",
    "probes_data = probes_data.drop(columns=['target'])"
   ]
  },
  {
   "cell_type": "code",
   "execution_count": 6,
   "metadata": {
    "pycharm": {
     "name": "#%%\n"
    }
   },
   "outputs": [],
   "source": [
    "# find input representations\n",
    "inputs = []\n",
    "for orth in anchors_data['orth'].unique():\n",
    "    inputs.append({'orth': orth, 'input': get_graphemes(orth)})\n",
    "inputs = pd.DataFrame(inputs)\n",
    "anchors_data = anchors_data.merge(inputs, on='orth')\n",
    "\n",
    "inputs = []\n",
    "for orth in probes_data['orth'].unique():\n",
    "    inputs.append({'orth': orth, 'input': get_graphemes(orth)})\n",
    "inputs = pd.DataFrame(inputs)\n",
    "probes_data = probes_data.merge(inputs, on='orth')"
   ]
  },
  {
   "cell_type": "code",
   "execution_count": 7,
   "metadata": {
    "pycharm": {
     "name": "#%%\n"
    }
   },
   "outputs": [],
   "source": [
    "# find target representations\n",
    "targets = []\n",
    "for phon in anchors_data['phon'].unique():\n",
    "    targets.append({'phon': phon, 'target': get_phonemes(phon)})\n",
    "targets = pd.DataFrame(targets)\n",
    "anchors_data = anchors_data.merge(targets, on='phon')\n",
    "anchors_data['word_type'] = anchors_data['word_type'].replace({'ANC_REG': 'Regular',\n",
    "                                                       'ANC_AMB': 'Ambiguous',\n",
    "                                                       'ANC_EXC': 'Exception',\n",
    "                                                       'PRO_REG': 'Regular',\n",
    "                                                       'PRO_AMB': 'Ambiguous',\n",
    "                                                       'PRO_EXC': 'Exception'})\n",
    "\n",
    "targets = []\n",
    "for phon in probes_data['phon'].unique():\n",
    "    targets.append({'phon': phon, 'target': get_phonemes(phon)})\n",
    "targets = pd.DataFrame(targets)\n",
    "probes_data = probes_data.merge(targets, on='phon')\n",
    "probes_data['word_type'] = probes_data['word_type'].replace({'ANC_REG': 'Regular',\n",
    "                                                       'ANC_AMB': 'Ambiguous',\n",
    "                                                       'ANC_EXC': 'Exception',\n",
    "                                                       'PRO_REG': 'Regular',\n",
    "                                                       'PRO_AMB': 'Ambiguous',\n",
    "                                                       'PRO_EXC': 'Exception'})"
   ]
  },
  {
   "cell_type": "code",
   "execution_count": 8,
   "metadata": {},
   "outputs": [
    {
     "data": {
      "text/html": [
       "<div>\n",
       "<style scoped>\n",
       "    .dataframe tbody tr th:only-of-type {\n",
       "        vertical-align: middle;\n",
       "    }\n",
       "\n",
       "    .dataframe tbody tr th {\n",
       "        vertical-align: top;\n",
       "    }\n",
       "\n",
       "    .dataframe thead th {\n",
       "        text-align: right;\n",
       "    }\n",
       "</style>\n",
       "<table border=\"1\" class=\"dataframe\">\n",
       "  <thead>\n",
       "    <tr style=\"text-align: right;\">\n",
       "      <th></th>\n",
       "      <th>epoch</th>\n",
       "      <th>orth</th>\n",
       "      <th>hidden</th>\n",
       "      <th>output</th>\n",
       "      <th>word_id</th>\n",
       "      <th>phon</th>\n",
       "      <th>word_type</th>\n",
       "      <th>dilution</th>\n",
       "      <th>input</th>\n",
       "      <th>target</th>\n",
       "    </tr>\n",
       "  </thead>\n",
       "  <tbody>\n",
       "    <tr>\n",
       "      <th>0</th>\n",
       "      <td>0</td>\n",
       "      <td>slit</td>\n",
       "      <td>[0.5810385, 0.03448805, 0.7988132, 0.9942407, ...</td>\n",
       "      <td>[0.9932049, 0.9132536, 0.2636496, 0.995957, 0....</td>\n",
       "      <td>0</td>\n",
       "      <td>slit</td>\n",
       "      <td>Regular</td>\n",
       "      <td>1</td>\n",
       "      <td>[0, 1, 0, 0, 0, 0, 0, 0, 0, 0, 0, 0, 0, 0, 1, ...</td>\n",
       "      <td>[1, 0, 0, 0, 0, 0, 0, 0, 0, 0, 0, 0, 0, 0, 0, ...</td>\n",
       "    </tr>\n",
       "    <tr>\n",
       "      <th>1</th>\n",
       "      <td>50</td>\n",
       "      <td>slit</td>\n",
       "      <td>[0.542014, 0.03120158, 0.7769464, 0.7409494, 0...</td>\n",
       "      <td>[0.9155124, 0.1399181, 0.005846474, 0.00139948...</td>\n",
       "      <td>0</td>\n",
       "      <td>slit</td>\n",
       "      <td>Regular</td>\n",
       "      <td>1</td>\n",
       "      <td>[0, 1, 0, 0, 0, 0, 0, 0, 0, 0, 0, 0, 0, 0, 1, ...</td>\n",
       "      <td>[1, 0, 0, 0, 0, 0, 0, 0, 0, 0, 0, 0, 0, 0, 0, ...</td>\n",
       "    </tr>\n",
       "    <tr>\n",
       "      <th>2</th>\n",
       "      <td>100</td>\n",
       "      <td>slit</td>\n",
       "      <td>[0.3006184, 0.03365607, 0.8729388, 0.7491507, ...</td>\n",
       "      <td>[0.9725308, 0.1685237, 0.003169156, 0.00159148...</td>\n",
       "      <td>0</td>\n",
       "      <td>slit</td>\n",
       "      <td>Regular</td>\n",
       "      <td>1</td>\n",
       "      <td>[0, 1, 0, 0, 0, 0, 0, 0, 0, 0, 0, 0, 0, 0, 1, ...</td>\n",
       "      <td>[1, 0, 0, 0, 0, 0, 0, 0, 0, 0, 0, 0, 0, 0, 0, ...</td>\n",
       "    </tr>\n",
       "    <tr>\n",
       "      <th>3</th>\n",
       "      <td>150</td>\n",
       "      <td>slit</td>\n",
       "      <td>[0.2114707, 0.04811467, 0.8487826, 0.7710838, ...</td>\n",
       "      <td>[0.9914985, 0.193497, 0.001483799, 0.004510722...</td>\n",
       "      <td>0</td>\n",
       "      <td>slit</td>\n",
       "      <td>Regular</td>\n",
       "      <td>1</td>\n",
       "      <td>[0, 1, 0, 0, 0, 0, 0, 0, 0, 0, 0, 0, 0, 0, 1, ...</td>\n",
       "      <td>[1, 0, 0, 0, 0, 0, 0, 0, 0, 0, 0, 0, 0, 0, 0, ...</td>\n",
       "    </tr>\n",
       "    <tr>\n",
       "      <th>4</th>\n",
       "      <td>200</td>\n",
       "      <td>slit</td>\n",
       "      <td>[0.1922769, 0.0587195, 0.8265496, 0.8017467, 0...</td>\n",
       "      <td>[0.9941159, 0.137084, 0.0005813494, 0.00470986...</td>\n",
       "      <td>0</td>\n",
       "      <td>slit</td>\n",
       "      <td>Regular</td>\n",
       "      <td>1</td>\n",
       "      <td>[0, 1, 0, 0, 0, 0, 0, 0, 0, 0, 0, 0, 0, 0, 1, ...</td>\n",
       "      <td>[1, 0, 0, 0, 0, 0, 0, 0, 0, 0, 0, 0, 0, 0, 0, ...</td>\n",
       "    </tr>\n",
       "  </tbody>\n",
       "</table>\n",
       "</div>"
      ],
      "text/plain": [
       "   epoch  orth                                             hidden  \\\n",
       "0      0  slit  [0.5810385, 0.03448805, 0.7988132, 0.9942407, ...   \n",
       "1     50  slit  [0.542014, 0.03120158, 0.7769464, 0.7409494, 0...   \n",
       "2    100  slit  [0.3006184, 0.03365607, 0.8729388, 0.7491507, ...   \n",
       "3    150  slit  [0.2114707, 0.04811467, 0.8487826, 0.7710838, ...   \n",
       "4    200  slit  [0.1922769, 0.0587195, 0.8265496, 0.8017467, 0...   \n",
       "\n",
       "                                              output word_id  phon word_type  \\\n",
       "0  [0.9932049, 0.9132536, 0.2636496, 0.995957, 0....       0  slit   Regular   \n",
       "1  [0.9155124, 0.1399181, 0.005846474, 0.00139948...       0  slit   Regular   \n",
       "2  [0.9725308, 0.1685237, 0.003169156, 0.00159148...       0  slit   Regular   \n",
       "3  [0.9914985, 0.193497, 0.001483799, 0.004510722...       0  slit   Regular   \n",
       "4  [0.9941159, 0.137084, 0.0005813494, 0.00470986...       0  slit   Regular   \n",
       "\n",
       "   dilution                                              input  \\\n",
       "0         1  [0, 1, 0, 0, 0, 0, 0, 0, 0, 0, 0, 0, 0, 0, 1, ...   \n",
       "1         1  [0, 1, 0, 0, 0, 0, 0, 0, 0, 0, 0, 0, 0, 0, 1, ...   \n",
       "2         1  [0, 1, 0, 0, 0, 0, 0, 0, 0, 0, 0, 0, 0, 0, 1, ...   \n",
       "3         1  [0, 1, 0, 0, 0, 0, 0, 0, 0, 0, 0, 0, 0, 0, 1, ...   \n",
       "4         1  [0, 1, 0, 0, 0, 0, 0, 0, 0, 0, 0, 0, 0, 0, 1, ...   \n",
       "\n",
       "                                              target  \n",
       "0  [1, 0, 0, 0, 0, 0, 0, 0, 0, 0, 0, 0, 0, 0, 0, ...  \n",
       "1  [1, 0, 0, 0, 0, 0, 0, 0, 0, 0, 0, 0, 0, 0, 0, ...  \n",
       "2  [1, 0, 0, 0, 0, 0, 0, 0, 0, 0, 0, 0, 0, 0, 0, ...  \n",
       "3  [1, 0, 0, 0, 0, 0, 0, 0, 0, 0, 0, 0, 0, 0, 0, ...  \n",
       "4  [1, 0, 0, 0, 0, 0, 0, 0, 0, 0, 0, 0, 0, 0, 0, ...  "
      ]
     },
     "execution_count": 8,
     "metadata": {},
     "output_type": "execute_result"
    }
   ],
   "source": [
    "anchors_data.head()"
   ]
  },
  {
   "cell_type": "code",
   "execution_count": 9,
   "metadata": {},
   "outputs": [
    {
     "data": {
      "text/html": [
       "<div>\n",
       "<style scoped>\n",
       "    .dataframe tbody tr th:only-of-type {\n",
       "        vertical-align: middle;\n",
       "    }\n",
       "\n",
       "    .dataframe tbody tr th {\n",
       "        vertical-align: top;\n",
       "    }\n",
       "\n",
       "    .dataframe thead th {\n",
       "        text-align: right;\n",
       "    }\n",
       "</style>\n",
       "<table border=\"1\" class=\"dataframe\">\n",
       "  <thead>\n",
       "    <tr style=\"text-align: right;\">\n",
       "      <th></th>\n",
       "      <th>epoch</th>\n",
       "      <th>orth</th>\n",
       "      <th>hidden</th>\n",
       "      <th>output</th>\n",
       "      <th>word_id</th>\n",
       "      <th>phon</th>\n",
       "      <th>word_type</th>\n",
       "      <th>dilution</th>\n",
       "      <th>input</th>\n",
       "      <th>target</th>\n",
       "    </tr>\n",
       "  </thead>\n",
       "  <tbody>\n",
       "    <tr>\n",
       "      <th>0</th>\n",
       "      <td>0</td>\n",
       "      <td>tisp</td>\n",
       "      <td>[0.373897, 0.03446266, 0.2112158, 0.9945962, 0...</td>\n",
       "      <td>[0.987653, 0.9250819, 0.6455368, 0.9980932, 0....</td>\n",
       "      <td>19</td>\n",
       "      <td>tisp</td>\n",
       "      <td>Regular</td>\n",
       "      <td>1</td>\n",
       "      <td>[0, 0, 0, 1, 0, 0, 0, 0, 0, 0, 0, 0, 0, 0, 0, ...</td>\n",
       "      <td>[0, 0, 0, 0, 0, 0, 0, 0, 0, 0, 0, 0, 1, 0, 0, ...</td>\n",
       "    </tr>\n",
       "    <tr>\n",
       "      <th>1</th>\n",
       "      <td>50</td>\n",
       "      <td>tisp</td>\n",
       "      <td>[0.695536, 0.05105973, 0.2703764, 0.6722665, 0...</td>\n",
       "      <td>[0.2990438, 0.09986782, 0.01104023, 0.00744819...</td>\n",
       "      <td>19</td>\n",
       "      <td>tisp</td>\n",
       "      <td>Regular</td>\n",
       "      <td>1</td>\n",
       "      <td>[0, 0, 0, 1, 0, 0, 0, 0, 0, 0, 0, 0, 0, 0, 0, ...</td>\n",
       "      <td>[0, 0, 0, 0, 0, 0, 0, 0, 0, 0, 0, 0, 1, 0, 0, ...</td>\n",
       "    </tr>\n",
       "    <tr>\n",
       "      <th>2</th>\n",
       "      <td>100</td>\n",
       "      <td>tisp</td>\n",
       "      <td>[0.7200769, 0.07116238, 0.1765733, 0.6095342, ...</td>\n",
       "      <td>[0.3698868, 0.04017891, 0.004660575, 0.0065370...</td>\n",
       "      <td>19</td>\n",
       "      <td>tisp</td>\n",
       "      <td>Regular</td>\n",
       "      <td>1</td>\n",
       "      <td>[0, 0, 0, 1, 0, 0, 0, 0, 0, 0, 0, 0, 0, 0, 0, ...</td>\n",
       "      <td>[0, 0, 0, 0, 0, 0, 0, 0, 0, 0, 0, 0, 1, 0, 0, ...</td>\n",
       "    </tr>\n",
       "    <tr>\n",
       "      <th>3</th>\n",
       "      <td>150</td>\n",
       "      <td>tisp</td>\n",
       "      <td>[0.7591655, 0.0856965, 0.0641764, 0.6542616, 0...</td>\n",
       "      <td>[0.2994674, 0.02580502, 0.001543103, 0.0119613...</td>\n",
       "      <td>19</td>\n",
       "      <td>tisp</td>\n",
       "      <td>Regular</td>\n",
       "      <td>1</td>\n",
       "      <td>[0, 0, 0, 1, 0, 0, 0, 0, 0, 0, 0, 0, 0, 0, 0, ...</td>\n",
       "      <td>[0, 0, 0, 0, 0, 0, 0, 0, 0, 0, 0, 0, 1, 0, 0, ...</td>\n",
       "    </tr>\n",
       "    <tr>\n",
       "      <th>4</th>\n",
       "      <td>200</td>\n",
       "      <td>tisp</td>\n",
       "      <td>[0.8146111, 0.09398907, 0.04292496, 0.681992, ...</td>\n",
       "      <td>[0.1733097, 0.01252688, 0.0006066441, 0.013739...</td>\n",
       "      <td>19</td>\n",
       "      <td>tisp</td>\n",
       "      <td>Regular</td>\n",
       "      <td>1</td>\n",
       "      <td>[0, 0, 0, 1, 0, 0, 0, 0, 0, 0, 0, 0, 0, 0, 0, ...</td>\n",
       "      <td>[0, 0, 0, 0, 0, 0, 0, 0, 0, 0, 0, 0, 1, 0, 0, ...</td>\n",
       "    </tr>\n",
       "  </tbody>\n",
       "</table>\n",
       "</div>"
      ],
      "text/plain": [
       "   epoch  orth                                             hidden  \\\n",
       "0      0  tisp  [0.373897, 0.03446266, 0.2112158, 0.9945962, 0...   \n",
       "1     50  tisp  [0.695536, 0.05105973, 0.2703764, 0.6722665, 0...   \n",
       "2    100  tisp  [0.7200769, 0.07116238, 0.1765733, 0.6095342, ...   \n",
       "3    150  tisp  [0.7591655, 0.0856965, 0.0641764, 0.6542616, 0...   \n",
       "4    200  tisp  [0.8146111, 0.09398907, 0.04292496, 0.681992, ...   \n",
       "\n",
       "                                              output word_id  phon word_type  \\\n",
       "0  [0.987653, 0.9250819, 0.6455368, 0.9980932, 0....      19  tisp   Regular   \n",
       "1  [0.2990438, 0.09986782, 0.01104023, 0.00744819...      19  tisp   Regular   \n",
       "2  [0.3698868, 0.04017891, 0.004660575, 0.0065370...      19  tisp   Regular   \n",
       "3  [0.2994674, 0.02580502, 0.001543103, 0.0119613...      19  tisp   Regular   \n",
       "4  [0.1733097, 0.01252688, 0.0006066441, 0.013739...      19  tisp   Regular   \n",
       "\n",
       "   dilution                                              input  \\\n",
       "0         1  [0, 0, 0, 1, 0, 0, 0, 0, 0, 0, 0, 0, 0, 0, 0, ...   \n",
       "1         1  [0, 0, 0, 1, 0, 0, 0, 0, 0, 0, 0, 0, 0, 0, 0, ...   \n",
       "2         1  [0, 0, 0, 1, 0, 0, 0, 0, 0, 0, 0, 0, 0, 0, 0, ...   \n",
       "3         1  [0, 0, 0, 1, 0, 0, 0, 0, 0, 0, 0, 0, 0, 0, 0, ...   \n",
       "4         1  [0, 0, 0, 1, 0, 0, 0, 0, 0, 0, 0, 0, 0, 0, 0, ...   \n",
       "\n",
       "                                              target  \n",
       "0  [0, 0, 0, 0, 0, 0, 0, 0, 0, 0, 0, 0, 1, 0, 0, ...  \n",
       "1  [0, 0, 0, 0, 0, 0, 0, 0, 0, 0, 0, 0, 1, 0, 0, ...  \n",
       "2  [0, 0, 0, 0, 0, 0, 0, 0, 0, 0, 0, 0, 1, 0, 0, ...  \n",
       "3  [0, 0, 0, 0, 0, 0, 0, 0, 0, 0, 0, 0, 1, 0, 0, ...  \n",
       "4  [0, 0, 0, 0, 0, 0, 0, 0, 0, 0, 0, 0, 1, 0, 0, ...  "
      ]
     },
     "execution_count": 9,
     "metadata": {},
     "output_type": "execute_result"
    }
   ],
   "source": [
    "probes_data.head()"
   ]
  },
  {
   "cell_type": "markdown",
   "metadata": {
    "pycharm": {
     "name": "#%% md\n"
    }
   },
   "source": [
    "## Calculate Correlation Vectors"
   ]
  },
  {
   "cell_type": "code",
   "execution_count": 10,
   "metadata": {},
   "outputs": [],
   "source": [
    "word_sets = []\n",
    "for row_index, row in anchor_probe_mapping.iterrows():\n",
    "    for anchor in row['anchor']:\n",
    "        word_sets.append({\n",
    "            'anchor': anchor,\n",
    "            'probe0': row['probes'][0],\n",
    "            'probe1': row['probes'][1],\n",
    "            'probe2': row['probes'][2],\n",
    "            'probe3': row['probes'][3]\n",
    "        })\n",
    "word_sets = pd.DataFrame(word_sets)\n",
    "word_sets = word_sets.drop_duplicates(subset='anchor').set_index('anchor')\n",
    "anchors_data = anchors_data.merge(word_sets, left_on='orth', right_index=True)"
   ]
  },
  {
   "cell_type": "code",
   "execution_count": 11,
   "metadata": {},
   "outputs": [],
   "source": [
    "merge_cols = ['epoch', 'dilution', 'orth', 'hidden', 'output', 'input', 'target']\n",
    "for probe_idx in range(4):\n",
    "    anchors_data = anchors_data.merge(probes_data[merge_cols].rename(columns={'orth': f'probe{probe_idx}'}), \n",
    "                                      on=['epoch', 'dilution', f'probe{probe_idx}'], \n",
    "                                      suffixes=(\"\", f'_probe{probe_idx}'), how='left')"
   ]
  },
  {
   "cell_type": "code",
   "execution_count": 12,
   "metadata": {},
   "outputs": [],
   "source": [
    "# grapheme, phoneme mapping for heatmaps below\n",
    "grapheme_onset = ['Y', 'S', 'P', 'T', 'K', 'Q', 'C', 'B', 'D', 'G', 'F', 'V', 'J', 'Z', 'L', 'M', 'N', 'R', 'W',\n",
    "                      'H', 'CH', 'GH', 'GN', 'PH', 'PS', 'RH', 'SH', 'TH', 'TS', 'WH']\n",
    "grapheme_vowel = ['E', 'I', 'O', 'U', 'A', 'Y', 'AI', 'AU', 'AW', 'AY', 'EA', 'EE', 'EI', 'EU', 'EW', 'EY', 'IE',\n",
    "                  'OA', 'OE', 'OI', 'OO', 'OU', 'OW', 'OY', 'UE', 'UI', 'UY']\n",
    "grapheme_codas = ['H', 'R', 'L', 'M', 'N', 'B', 'D', 'G', 'C', 'X', 'F', 'V', 'J', 'S', 'Z', 'P', 'T', 'K', 'Q',\n",
    "                  'BB', 'CH', 'CK', 'DD', 'DG', 'FF', 'GG', 'GH', 'GN', 'KS', 'LL', 'NG', 'NN', 'PH', 'PP', 'PS',\n",
    "                  'RR', 'SH', 'SL', 'SS', 'TCH', 'TH', 'TS', 'TT', 'ZZ', 'U', 'E', 'ES', 'ED']\n",
    "phoneme_onset = ['s', 'S', 'C', 'z', 'Z', 'j', 'f', 'v', 'T', 'D', 'p', 'b', 't', 'd', 'k', 'g', 'm', 'n', 'h',\n",
    "                 'l', 'r', 'w', 'y']\n",
    "phoneme_vowel = ['a', 'e', 'i', 'o', 'u', '@', '^', 'A', 'E', 'I', 'O', 'U', 'W', 'Y']\n",
    "phoneme_codas = ['r', 'l', 'm', 'n', 'N', 'b', 'g', 'd', 'ps', 'ks', 'ts', 's', 'z', 'f', 'v', 'p', 'k', 't', 'S',\n",
    "                 'Z', 'T', 'D', 'C', 'j']"
   ]
  },
  {
   "cell_type": "markdown",
   "metadata": {},
   "source": [
    "## Analysis on \"Blome\" at epoch 2000, Dilution 1\n",
    "* For the sake of this analysis, we look at the orth-target correlations, since these stay constant throughout training"
   ]
  },
  {
   "cell_type": "code",
   "execution_count": 13,
   "metadata": {},
   "outputs": [
    {
     "data": {
      "text/html": [
       "<div>\n",
       "<style scoped>\n",
       "    .dataframe tbody tr th:only-of-type {\n",
       "        vertical-align: middle;\n",
       "    }\n",
       "\n",
       "    .dataframe tbody tr th {\n",
       "        vertical-align: top;\n",
       "    }\n",
       "\n",
       "    .dataframe thead th {\n",
       "        text-align: right;\n",
       "    }\n",
       "</style>\n",
       "<table border=\"1\" class=\"dataframe\">\n",
       "  <thead>\n",
       "    <tr style=\"text-align: right;\">\n",
       "      <th></th>\n",
       "      <th>epoch</th>\n",
       "      <th>orth</th>\n",
       "      <th>hidden</th>\n",
       "      <th>output</th>\n",
       "      <th>word_id</th>\n",
       "      <th>phon</th>\n",
       "      <th>word_type</th>\n",
       "      <th>dilution</th>\n",
       "      <th>input</th>\n",
       "      <th>target</th>\n",
       "      <th>...</th>\n",
       "      <th>input_probe1</th>\n",
       "      <th>target_probe1</th>\n",
       "      <th>hidden_probe2</th>\n",
       "      <th>output_probe2</th>\n",
       "      <th>input_probe2</th>\n",
       "      <th>target_probe2</th>\n",
       "      <th>hidden_probe3</th>\n",
       "      <th>output_probe3</th>\n",
       "      <th>input_probe3</th>\n",
       "      <th>target_probe3</th>\n",
       "    </tr>\n",
       "  </thead>\n",
       "  <tbody>\n",
       "    <tr>\n",
       "      <th>5422</th>\n",
       "      <td>2000</td>\n",
       "      <td>blome</td>\n",
       "      <td>[0.033661, 0.4898179, 0.06279971, 0.3410191, 0...</td>\n",
       "      <td>[1.711674e-06, 8.440667e-06, 0.00060552, 0.001...</td>\n",
       "      <td>61</td>\n",
       "      <td>blOm</td>\n",
       "      <td>Ambiguous</td>\n",
       "      <td>1</td>\n",
       "      <td>[0, 0, 0, 0, 0, 0, 0, 1, 0, 0, 0, 0, 0, 0, 1, ...</td>\n",
       "      <td>[0, 0, 0, 0, 0, 0, 0, 0, 0, 0, 0, 1, 0, 0, 0, ...</td>\n",
       "      <td>...</td>\n",
       "      <td>[0, 1, 0, 0, 0, 0, 0, 0, 0, 0, 0, 0, 0, 0, 0, ...</td>\n",
       "      <td>[0, 1, 0, 0, 0, 0, 0, 0, 0, 0, 0, 0, 0, 0, 0, ...</td>\n",
       "      <td>[0.1554243, 0.1364794, 0.84388, 0.1277314, 0.9...</td>\n",
       "      <td>[0.0001341192, 0.000271632, 9.777637e-05, 0.00...</td>\n",
       "      <td>[0, 0, 0, 0, 0, 0, 0, 0, 0, 1, 0, 0, 0, 0, 0, ...</td>\n",
       "      <td>[0, 0, 0, 0, 0, 0, 0, 0, 0, 0, 0, 0, 0, 0, 0, ...</td>\n",
       "      <td>[0.1814949, 0.8197939, 0.9948516, 0.04729008, ...</td>\n",
       "      <td>[0.0007976465, 1.360247e-06, 3.969378e-07, 0.0...</td>\n",
       "      <td>[0, 0, 1, 0, 0, 0, 0, 0, 0, 0, 0, 0, 0, 0, 0, ...</td>\n",
       "      <td>[0, 0, 0, 0, 0, 0, 0, 0, 0, 0, 1, 0, 0, 0, 0, ...</td>\n",
       "    </tr>\n",
       "  </tbody>\n",
       "</table>\n",
       "<p>1 rows × 30 columns</p>\n",
       "</div>"
      ],
      "text/plain": [
       "      epoch   orth                                             hidden  \\\n",
       "5422   2000  blome  [0.033661, 0.4898179, 0.06279971, 0.3410191, 0...   \n",
       "\n",
       "                                                 output word_id  phon  \\\n",
       "5422  [1.711674e-06, 8.440667e-06, 0.00060552, 0.001...      61  blOm   \n",
       "\n",
       "      word_type  dilution                                              input  \\\n",
       "5422  Ambiguous         1  [0, 0, 0, 0, 0, 0, 0, 1, 0, 0, 0, 0, 0, 0, 1, ...   \n",
       "\n",
       "                                                 target  ...  \\\n",
       "5422  [0, 0, 0, 0, 0, 0, 0, 0, 0, 0, 0, 1, 0, 0, 0, ...  ...   \n",
       "\n",
       "                                           input_probe1  \\\n",
       "5422  [0, 1, 0, 0, 0, 0, 0, 0, 0, 0, 0, 0, 0, 0, 0, ...   \n",
       "\n",
       "                                          target_probe1  \\\n",
       "5422  [0, 1, 0, 0, 0, 0, 0, 0, 0, 0, 0, 0, 0, 0, 0, ...   \n",
       "\n",
       "                                          hidden_probe2  \\\n",
       "5422  [0.1554243, 0.1364794, 0.84388, 0.1277314, 0.9...   \n",
       "\n",
       "                                          output_probe2  \\\n",
       "5422  [0.0001341192, 0.000271632, 9.777637e-05, 0.00...   \n",
       "\n",
       "                                           input_probe2  \\\n",
       "5422  [0, 0, 0, 0, 0, 0, 0, 0, 0, 1, 0, 0, 0, 0, 0, ...   \n",
       "\n",
       "                                          target_probe2  \\\n",
       "5422  [0, 0, 0, 0, 0, 0, 0, 0, 0, 0, 0, 0, 0, 0, 0, ...   \n",
       "\n",
       "                                          hidden_probe3  \\\n",
       "5422  [0.1814949, 0.8197939, 0.9948516, 0.04729008, ...   \n",
       "\n",
       "                                          output_probe3  \\\n",
       "5422  [0.0007976465, 1.360247e-06, 3.969378e-07, 0.0...   \n",
       "\n",
       "                                           input_probe3  \\\n",
       "5422  [0, 0, 1, 0, 0, 0, 0, 0, 0, 0, 0, 0, 0, 0, 0, ...   \n",
       "\n",
       "                                          target_probe3  \n",
       "5422  [0, 0, 0, 0, 0, 0, 0, 0, 0, 0, 1, 0, 0, 0, 0, ...  \n",
       "\n",
       "[1 rows x 30 columns]"
      ]
     },
     "execution_count": 13,
     "metadata": {},
     "output_type": "execute_result"
    }
   ],
   "source": [
    "blome_data = anchors_data[(anchors_data['orth'] == 'blome') & (anchors_data['dilution'] == 1) & (anchors_data['epoch'] == 2000)]\n",
    "blome_data"
   ]
  },
  {
   "cell_type": "markdown",
   "metadata": {},
   "source": [
    "The four probes for `blome` are as follows:"
   ]
  },
  {
   "cell_type": "code",
   "execution_count": 14,
   "metadata": {},
   "outputs": [
    {
     "data": {
      "text/html": [
       "<div>\n",
       "<style scoped>\n",
       "    .dataframe tbody tr th:only-of-type {\n",
       "        vertical-align: middle;\n",
       "    }\n",
       "\n",
       "    .dataframe tbody tr th {\n",
       "        vertical-align: top;\n",
       "    }\n",
       "\n",
       "    .dataframe thead th {\n",
       "        text-align: right;\n",
       "    }\n",
       "</style>\n",
       "<table border=\"1\" class=\"dataframe\">\n",
       "  <thead>\n",
       "    <tr style=\"text-align: right;\">\n",
       "      <th></th>\n",
       "      <th>probe0</th>\n",
       "      <th>probe1</th>\n",
       "      <th>probe2</th>\n",
       "      <th>probe3</th>\n",
       "    </tr>\n",
       "  </thead>\n",
       "  <tbody>\n",
       "    <tr>\n",
       "      <th>5422</th>\n",
       "      <td>stome</td>\n",
       "      <td>shome</td>\n",
       "      <td>grome</td>\n",
       "      <td>prome</td>\n",
       "    </tr>\n",
       "  </tbody>\n",
       "</table>\n",
       "</div>"
      ],
      "text/plain": [
       "     probe0 probe1 probe2 probe3\n",
       "5422  stome  shome  grome  prome"
      ]
     },
     "execution_count": 14,
     "metadata": {},
     "output_type": "execute_result"
    }
   ],
   "source": [
    "blome_data[[f'probe{x}' for x in range(4)]]"
   ]
  },
  {
   "cell_type": "markdown",
   "metadata": {},
   "source": [
    "The input representations are as follows:"
   ]
  },
  {
   "cell_type": "code",
   "execution_count": 15,
   "metadata": {},
   "outputs": [],
   "source": [
    "blome_data = blome_data.iloc[0]"
   ]
  },
  {
   "cell_type": "code",
   "execution_count": 16,
   "metadata": {},
   "outputs": [
    {
     "data": {
      "image/png": "[encoded data removed]",
      "text/plain": [
       "<Figure size 2000x150 with 2 Axes>"
      ]
     },
     "metadata": {},
     "output_type": "display_data"
    }
   ],
   "source": [
    "fig, ax = plt.subplots(1, 1, figsize=(20, 1.5))\n",
    "sns.heatmap(pd.DataFrame({blome_data['orth']: blome_data['input'], \n",
    "                         **{blome_data[f'probe{i}']: blome_data[f'input_probe{i}'] for i in range(4)}},\n",
    "                         index=grapheme_onset + grapheme_vowel + grapheme_codas).astype(float).T,\n",
    "            xticklabels=True, ax=ax)\n",
    "plt.show()"
   ]
  },
  {
   "cell_type": "markdown",
   "metadata": {},
   "source": [
    "The correlation between the inputs for blome and its probes are as follows:"
   ]
  },
  {
   "cell_type": "code",
   "execution_count": 17,
   "metadata": {},
   "outputs": [
    {
     "data": {
      "text/plain": [
       "stome    0.580000\n",
       "shome    0.522958\n",
       "grome    0.580000\n",
       "prome    0.580000\n",
       "Name: blome, dtype: float64"
      ]
     },
     "execution_count": 17,
     "metadata": {},
     "output_type": "execute_result"
    }
   ],
   "source": [
    "pd.DataFrame({blome_data['orth']: blome_data['input'], \n",
    "              **{blome_data[f'probe{i}']: blome_data[f'input_probe{i}'] for i in range(4)}}).corr()['blome'].iloc[1:]"
   ]
  },
  {
   "cell_type": "markdown",
   "metadata": {},
   "source": [
    "The target represntations are as follows:"
   ]
  },
  {
   "cell_type": "code",
   "execution_count": 18,
   "metadata": {},
   "outputs": [
    {
     "data": {
      "image/png": "[encoded data removed]",
      "text/plain": [
       "<Figure size 1500x150 with 2 Axes>"
      ]
     },
     "metadata": {},
     "output_type": "display_data"
    }
   ],
   "source": [
    "fig, ax = plt.subplots(1, 1, figsize=(15, 1.5))\n",
    "\n",
    "sns.heatmap(pd.DataFrame({blome_data['orth']: blome_data['target'], \n",
    "                         **{blome_data[f'probe{i}']: blome_data[f'target_probe{i}'] for i in range(4)}},\n",
    "                         index=phoneme_onset + phoneme_vowel + phoneme_codas).astype(float).T,\n",
    "            annot_kws={\"orientation\": \"horizontal\"}, xticklabels=True, ax=ax)\n",
    "plt.show()"
   ]
  },
  {
   "cell_type": "markdown",
   "metadata": {},
   "source": [
    "The correlation between the targets for blome and its probes are as follows:"
   ]
  },
  {
   "cell_type": "code",
   "execution_count": 19,
   "metadata": {},
   "outputs": [
    {
     "data": {
      "text/plain": [
       "stome    0.464912\n",
       "shome    0.552269\n",
       "grome    0.464912\n",
       "prome    0.464912\n",
       "Name: blome, dtype: float64"
      ]
     },
     "execution_count": 19,
     "metadata": {},
     "output_type": "execute_result"
    }
   ],
   "source": [
    "pd.DataFrame({blome_data['orth']: blome_data['target'], \n",
    "              **{blome_data[f'probe{i}']: blome_data[f'target_probe{i}'] for i in range(4)}}).corr()['blome'].iloc[1:]"
   ]
  },
  {
   "cell_type": "markdown",
   "metadata": {},
   "source": [
    "The two correlation vectors are here:"
   ]
  },
  {
   "cell_type": "code",
   "execution_count": 20,
   "metadata": {},
   "outputs": [
    {
     "name": "stdout",
     "output_type": "stream",
     "text": [
      "Input Correlation Vector: [0.58       0.52295779 0.58       0.58      ]\n",
      "Target Correlation Vector: [0.46491228 0.55226896 0.46491228 0.46491228]\n"
     ]
    }
   ],
   "source": [
    "input_corr_vector = pd.DataFrame({blome_data['orth']: blome_data['input'], \n",
    "              **{blome_data[f'probe{i}']: blome_data[f'input_probe{i}'] for i in range(4)}}).corr()['blome'].iloc[1:].values\n",
    "target_corr_vector = pd.DataFrame({blome_data['orth']: blome_data['target'], \n",
    "              **{blome_data[f'probe{i}']: blome_data[f'target_probe{i}'] for i in range(4)}}).corr()['blome'].iloc[1:].values\n",
    "print(\"Input Correlation Vector:\", input_corr_vector)\n",
    "print(\"Target Correlation Vector:\", target_corr_vector)"
   ]
  },
  {
   "cell_type": "markdown",
   "metadata": {},
   "source": [
    "Finally, for the \"correlation of correlations\", we take the correlation between the two vectors above:"
   ]
  },
  {
   "cell_type": "code",
   "execution_count": 21,
   "metadata": {},
   "outputs": [
    {
     "name": "stdout",
     "output_type": "stream",
     "text": [
      "The Orth-Target correlation for blome and its probes is: -1.0\n"
     ]
    }
   ],
   "source": [
    "final_corr = np.corrcoef(input_corr_vector, target_corr_vector)[0, 1]\n",
    "print(f\"The Orth-Target correlation for blome and its probes is: {final_corr}\")"
   ]
  },
  {
   "cell_type": "code",
   "execution_count": null,
   "metadata": {},
   "outputs": [],
   "source": []
  }
 ],
 "metadata": {
  "kernelspec": {
   "display_name": "Python 3",
   "language": "python",
   "name": "python3"
  },
  "language_info": {
   "codemirror_mode": {
    "name": "ipython",
    "version": 3
   },
   "file_extension": ".py",
   "mimetype": "text/x-python",
   "name": "python",
   "nbconvert_exporter": "python",
   "pygments_lexer": "ipython3",
   "version": "3.9.4"
  }
 },
 "nbformat": 4,
 "nbformat_minor": 1
}
